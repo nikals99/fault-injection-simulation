{
 "cells": [
  {
   "cell_type": "markdown",
   "id": "76e483e2-0b68-4ac6-91ff-e87b28c5f27b",
   "metadata": {},
   "source": [
    "# Simple Example Script to simulate glitching attacks with angr\n",
    "This script aims to show the basic usage of angr in combination with some custom scripts to find glitchpoints in binaries. "
   ]
  },
  {
   "cell_type": "code",
   "execution_count": 1,
   "id": "f0200970-37f5-44b2-8423-db556b73fc8f",
   "metadata": {},
   "outputs": [],
   "source": [
    "# Make sure that custom scripts can be imported\n",
    "import os\n",
    "import sys\n",
    "module_path = os.path.abspath(os.path.join('py_scripts'))\n",
    "if module_path not in sys.path:\n",
    "    sys.path.append(module_path)"
   ]
  },
  {
   "cell_type": "code",
   "execution_count": 2,
   "id": "b976dd23-2ecf-4200-a1e9-d2db0e3dfcca",
   "metadata": {},
   "outputs": [],
   "source": [
    "# import modules\n",
    "import angr\n",
    "import archinfo\n",
    "# import custom scripts\n",
    "import common\n",
    "from timeout import TimeLimitedExecution"
   ]
  },
  {
   "cell_type": "markdown",
   "id": "596f538d-1f63-4e93-ba36-08147e46fe60",
   "metadata": {},
   "source": [
    "### Loading the binary\n",
    "First the binary needs to be loaded. Angr provides a loader that can load elf, mach-o and pe files as well as the blob loader which can load arbitrary binaries."
   ]
  },
  {
   "cell_type": "code",
   "execution_count": 3,
   "id": "15dcb00c-f036-4436-a4c9-583c08fc4b2a",
   "metadata": {},
   "outputs": [
    {
     "name": "stderr",
     "output_type": "stream",
     "text": [
      "WARNING | 2022-01-19 16:20:28,832 | cle.loader | The main binary is a position-independent executable. It is being loaded with a base address of 0x400000.\n"
     ]
    },
    {
     "name": "stdout",
     "output_type": "stream",
     "text": [
      "############ project info ############\n",
      "file: ./example_binaries/out/01_simple\n",
      "arch: <Arch AARCH64 (LE)>\n",
      "entry: 0x400660\n",
      "min_addr: 0x400000\n",
      "max_addr: 0x807fff\n",
      "############ project info ############\n"
     ]
    }
   ],
   "source": [
    "# Load a elf binary\n",
    "proj = angr.Project(\"./example_binaries/out/01_simple\")\n",
    "# When dealing with an non elf/mach-o,pe file (e.g. an arm firmware) additional information needs to be provided:\n",
    "# proj = angr.Project(\"./path_to_custom/binary\", main_opts={'backend': 'blob', 'arch': 'arm', 'base_addr': 0x40000, 'entry_point': 0x40000}\"\n",
    "common.project_info(proj)"
   ]
  },
  {
   "cell_type": "markdown",
   "id": "98f9fac0-3f2c-47fc-823a-6e2ad663a89b",
   "metadata": {},
   "source": [
    "## State preparation\n",
    "Next the starting point (state) needs to be configured. It can be either an entry state starting at the beginning or a blank state starting at a specific adress. Furthermore statemodifications can be applied to for example simulate values being set in memory. In the example binary coderedoutprotection (CRP) is enabled by setting ```0x1FE``` to ```0x12345678``` or ```0x87654321```. We set ```0x1FE``` to ```0x12345678``` so we can find a glitch to prevent CRP."
   ]
  },
  {
   "cell_type": "code",
   "execution_count": 4,
   "id": "1bdcfb69-1ebf-494c-9e6d-0e5104080bec",
   "metadata": {},
   "outputs": [],
   "source": [
    "def get_state():\n",
    "    # add some options for angr\n",
    "    state_options = {angr.options.SYMBOL_FILL_UNCONSTRAINED_MEMORY, angr.options.SYMBOL_FILL_UNCONSTRAINED_REGISTERS}\n",
    "    \n",
    "    # start with an initial state\n",
    "    state = proj.factory.entry_state(add_options=state_options)\n",
    "    # Don't start at entry point of the elf binary, start at the beginning of main\n",
    "    #state = proj.factory.blank_state(addr=0x40076c, add_options=options)\n",
    "    \n",
    "    #######\n",
    "    #State modification section see: https://docs.angr.io/core-concepts/states#review-reading-and-writing-memory-and-registers\n",
    "    #######\n",
    "    #Set 0x1FE to 0x12345678\n",
    "    state.memory.store(0x1FE, 0x12345678, 4, endness=archinfo.Endness.LE)\n",
    "    return state"
   ]
  },
  {
   "cell_type": "markdown",
   "id": "e4141044-5c1d-49c1-88d8-7051c51779dd",
   "metadata": {},
   "source": [
    "## Find conditions\n",
    "Next the find condition needs to be configured. It can be either an address that angr should be searching for or a more complex scenarion with a custom find function (shown in notebook TODO). Furthermore it is possible to add multiple avoid addresses witch should be avoided when angr tries to find a path. In the basic example a path to ```0x4007e4``` should be found since it is only reached when CRP is successfully disabled."
   ]
  },
  {
   "cell_type": "code",
   "execution_count": 5,
   "id": "987dc301-3b6b-4954-812f-0eb6e689221e",
   "metadata": {},
   "outputs": [],
   "source": [
    "# simple find\n",
    "find=0x4007e4\n",
    "avoid_addrs=[]"
   ]
  },
  {
   "cell_type": "markdown",
   "id": "ed61a564-3ca4-4ab3-9580-76ea6ba227a4",
   "metadata": {},
   "source": [
    "## First attempt to find a path without a glitch"
   ]
  },
  {
   "cell_type": "markdown",
   "id": "b05ece2e-893e-4990-aa2e-611f0e0afc51",
   "metadata": {},
   "source": [
    "The following snippet tries to find a path considering the find conditions. Normaly this yields no results as we can't reach our conditions without applying a glitch."
   ]
  },
  {
   "cell_type": "code",
   "execution_count": 6,
   "id": "bd8377e7-c8e9-4e51-81c7-aaf0d17cbb40",
   "metadata": {},
   "outputs": [
    {
     "data": {
      "text/plain": [
       "[]"
      ]
     },
     "execution_count": 6,
     "metadata": {},
     "output_type": "execute_result"
    }
   ],
   "source": [
    "# Get the state from the state functions which was definied previously\n",
    "state = get_state()\n",
    "# get a simulation manager\n",
    "simgr = proj.factory.simgr(state)\n",
    "# explore, starting from the current state and try to find the find address while avoiding the avoid addresses\n",
    "simgr.explore(find=find, avoid=avoid_addrs, num_find=5)\n",
    "simgr.found"
   ]
  },
  {
   "cell_type": "markdown",
   "id": "5e9546ab-c5ba-41e1-8237-1582acf55940",
   "metadata": {},
   "source": [
    "## Glitching Addresses\n",
    "Rather than trying to glitch every instruction in the binary we only try to insert glitches at specific, user defined addresses to keep the searchspace as small as possible. In the basic example only the instructions inside the main function are relevant so these are defined in the glitch_addresses list."
   ]
  },
  {
   "cell_type": "code",
   "execution_count": 7,
   "id": "695a2ef9-b43b-441f-86b6-36030c83a10f",
   "metadata": {},
   "outputs": [
    {
     "data": {
      "text/plain": [
       "['0x40076c',\n",
       " '0x400770',\n",
       " '0x400774',\n",
       " '0x400778',\n",
       " '0x40077c',\n",
       " '0x400780',\n",
       " '0x400784',\n",
       " '0x400788',\n",
       " '0x40078c',\n",
       " '0x400790',\n",
       " '0x400794',\n",
       " '0x400798',\n",
       " '0x40079c',\n",
       " '0x4007a0',\n",
       " '0x4007a4',\n",
       " '0x4007a8',\n",
       " '0x4007ac',\n",
       " '0x4007b0',\n",
       " '0x4007b4',\n",
       " '0x4007b8',\n",
       " '0x4007bc',\n",
       " '0x4007c0',\n",
       " '0x4007c4',\n",
       " '0x4007c8',\n",
       " '0x4007cc',\n",
       " '0x4007d0',\n",
       " '0x4007d4',\n",
       " '0x4007d8',\n",
       " '0x4007dc',\n",
       " '0x4007e0',\n",
       " '0x4007e4',\n",
       " '0x4007e8',\n",
       " '0x4007ec',\n",
       " '0x4007f0']"
      ]
     },
     "execution_count": 7,
     "metadata": {},
     "output_type": "execute_result"
    }
   ],
   "source": [
    "# Add all instructions from 0x40076c to 0x4007f0\n",
    "glitch_addresses=[addr for addr in range(0x40076c, 0x4007f4, 4)]\n",
    "# Pretty print them:\n",
    "[hex(addr) for addr in glitch_addresses]"
   ]
  },
  {
   "cell_type": "markdown",
   "id": "b295ee53-5292-4cfd-bd04-21aab0d6676e",
   "metadata": {},
   "source": [
    "## Enumerate the glitch_addresses to find a suitable glitchpoint"
   ]
  },
  {
   "cell_type": "code",
   "execution_count": 10,
   "id": "23e505f3-5bc8-41a6-9ee2-2495833b3fd8",
   "metadata": {},
   "outputs": [
    {
     "name": "stdout",
     "output_type": "stream",
     "text": [
      "applying glitch to 0x40076c\n",
      "applying glitch to 0x400770\n",
      "applying glitch to 0x400774\n",
      "applying glitch to 0x400778\n",
      "applying glitch to 0x40077c\n",
      "applying glitch to 0x400780\n",
      "\u001B[92mfound a glitch at: 0x400780\u001B[0m\n",
      "applying glitch to 0x400784\n",
      "\u001B[92mfound a glitch at: 0x400784\u001B[0m\n",
      "applying glitch to 0x400788\n",
      "applying glitch to 0x40078c\n",
      "\u001B[92mfound a glitch at: 0x40078c\u001B[0m\n",
      "applying glitch to 0x400790\n",
      "\u001B[92mfound a glitch at: 0x400790\u001B[0m\n",
      "applying glitch to 0x400794\n",
      "\u001B[92mfound a glitch at: 0x400794\u001B[0m\n",
      "applying glitch to 0x400798\n",
      "applying glitch to 0x40079c\n",
      "\u001B[92mfound a glitch at: 0x40079c\u001B[0m\n",
      "applying glitch to 0x4007a0\n",
      "applying glitch to 0x4007a4\n",
      "applying glitch to 0x4007a8\n",
      "applying glitch to 0x4007ac\n",
      "applying glitch to 0x4007b0\n",
      "applying glitch to 0x4007b4\n",
      "\u001B[92mfound a glitch at: 0x4007b4\u001B[0m\n",
      "applying glitch to 0x4007b8\n",
      "applying glitch to 0x4007bc\n",
      "applying glitch to 0x4007c0\n",
      "applying glitch to 0x4007c4\n",
      "applying glitch to 0x4007c8\n",
      "applying glitch to 0x4007cc\n",
      "applying glitch to 0x4007d0\n",
      "applying glitch to 0x4007d4\n",
      "applying glitch to 0x4007d8\n",
      "applying glitch to 0x4007dc\n",
      "applying glitch to 0x4007e0\n",
      "applying glitch to 0x4007e4\n",
      "applying glitch to 0x4007e8\n",
      "applying glitch to 0x4007ec\n",
      "applying glitch to 0x4007f0\n"
     ]
    },
    {
     "data": {
      "text/plain": [
       "[(4196224, [<SimState @ 0x4007e4>]),\n",
       " (4196228, [<SimState @ 0x4007e4>]),\n",
       " (4196236, [<SimState @ 0x4007e4>]),\n",
       " (4196240, [<SimState @ 0x4007e4>]),\n",
       " (4196244, [<SimState @ 0x4007e4>]),\n",
       " (4196252, [<SimState @ 0x4007e4>]),\n",
       " (4196276, [<SimState @ 0x4007e4>])]"
      ]
     },
     "execution_count": 10,
     "metadata": {},
     "output_type": "execute_result"
    }
   ],
   "source": [
    "results = []\n",
    "for glitch_addr in glitch_addresses:\n",
    "    print(f\"applying glitch to {hex(glitch_addr)}\")\n",
    "    \n",
    "    # get a fresh state + simulation manager\n",
    "    state = get_state();\n",
    "    simgr = proj.factory.simgr(state)\n",
    "    # Set a timelimit to each execution so we don't run into endless loops\n",
    "    tl = TimeLimitedExecution(time_limit=3000)\n",
    "    simgr.use_technique(tl)\n",
    "    \n",
    "    # actually insert the glitch\n",
    "    proj.hook(glitch_addr, common.hook_nop, length=4)\n",
    "    \n",
    "    # explore, starting from the current state and try to find the find address while avoiding the avoid addresses\n",
    "    simgr.explore(find=find, avoid=avoid_addrs, num_find=5)\n",
    "    if len(simgr.found)>0:\n",
    "        print(f\"\\033[92mfound a glitch at: {hex(glitch_addr)}\\033[0m\")\n",
    "        results.append((glitch_addr, simgr.found))\n",
    "    proj.unhook(glitch_addr)\n",
    "\n",
    "results"
   ]
  },
  {
   "cell_type": "code",
   "execution_count": null,
   "id": "489366d3-43db-4606-8414-92679725602c",
   "metadata": {},
   "outputs": [],
   "source": []
  }
 ],
 "metadata": {
  "kernelspec": {
   "display_name": "Python 3 (ipykernel)",
   "language": "python",
   "name": "python3"
  },
  "language_info": {
   "codemirror_mode": {
    "name": "ipython",
    "version": 3
   },
   "file_extension": ".py",
   "mimetype": "text/x-python",
   "name": "python",
   "nbconvert_exporter": "python",
   "pygments_lexer": "ipython3",
   "version": "3.9.9"
  }
 },
 "nbformat": 4,
 "nbformat_minor": 5
}